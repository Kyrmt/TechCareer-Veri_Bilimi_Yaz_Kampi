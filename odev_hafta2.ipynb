{
 "cells": [
  {
   "cell_type": "code",
   "execution_count": null,
   "id": "377f749d",
   "metadata": {},
   "outputs": [],
   "source": [
    "# Soru 1 - Sayı Analizi\n",
    "sayi = int(input(\"Bir sayı giriniz: \"))\n",
    "if sayi > 0:\n",
    "    durum = \"Pozitif\"\n",
    "elif sayi < 0:\n",
    "    durum = \"Negatif\"\n",
    "else:\n",
    "    durum = \"Sıfır\"\n",
    "\n",
    "tekcift = \"Çift\" if sayi % 2 == 0 else \"Tek\"\n",
    "print(f\"{durum} {tekcift}\")"
   ]
  },
  {
   "cell_type": "code",
   "execution_count": null,
   "id": "549f4ca2",
   "metadata": {},
   "outputs": [],
   "source": [
    "# Soru 2 - Harf Frekansı\n",
    "kelime = input(\"Bir kelime giriniz: \")\n",
    "frekans = {}\n",
    "for harf in kelime:\n",
    "    frekans[harf] = frekans.get(harf, 0) + 1\n",
    "print(frekans)"
   ]
  },
  {
   "cell_type": "code",
   "execution_count": null,
   "id": "8e8ba0af",
   "metadata": {},
   "outputs": [],
   "source": [
    "# Soru 3 - Şifre Kontrolü\n",
    "sifre = input(\"Şifre giriniz: \")\n",
    "if len(sifre) < 8:\n",
    "    print(\"Şifre en az 8 karakter olmalı.\")\n",
    "elif not any(harf.isupper() for harf in sifre):\n",
    "    print(\"Şifre en az bir büyük harf içermeli.\")\n",
    "elif not any(harf.isdigit() for harf in sifre):\n",
    "    print(\"Şifre en az bir rakam içermeli.\")\n",
    "else:\n",
    "    print(\"Şifre geçerli!\")"
   ]
  },
  {
   "cell_type": "code",
   "execution_count": null,
   "id": "8b6bf78a",
   "metadata": {},
   "outputs": [],
   "source": [
    "# Soru 4 - Liste İşlemleri\n",
    "sayilar = [12, 4, 9, 25, 30, 7, 18]\n",
    "ortalama = sum(sayilar)/len(sayilar)\n",
    "buyukler = [s for s in sayilar if s > ortalama]\n",
    "print(\"Ortalama:\", ortalama)\n",
    "print(\"Ortalamadan büyük sayılar:\", buyukler)"
   ]
  },
  {
   "cell_type": "code",
   "execution_count": null,
   "id": "8807f3d0",
   "metadata": {},
   "outputs": [],
   "source": [
    "# Soru 5 - Nested Loop (Desen)\n",
    "for i in range(1,6):\n",
    "    print('*'*i)"
   ]
  },
  {
   "cell_type": "code",
   "execution_count": null,
   "id": "94221982",
   "metadata": {},
   "outputs": [],
   "source": [
    "# Soru 6 - While Döngüsü\n",
    "toplam = 0\n",
    "adet = 0\n",
    "while True:\n",
    "    sayi = int(input(\"Sayı giriniz (0 çıkış): \"))\n",
    "    if sayi == 0:\n",
    "        break\n",
    "    toplam += sayi\n",
    "    adet += 1\n",
    "if adet > 0:\n",
    "    print(\"Toplam:\", toplam)\n",
    "    print(\"Ortalama:\", toplam/adet)\n",
    "else:\n",
    "    print(\"Hiç sayı girilmedi.\")"
   ]
  },
  {
   "cell_type": "code",
   "execution_count": null,
   "id": "9b161101",
   "metadata": {},
   "outputs": [],
   "source": [
    "# Soru 7 - Palindrom Kontrolü\n",
    "kelime = input(\"Bir kelime giriniz: \")\n",
    "if kelime == kelime[::-1]:\n",
    "    print(\"Palindrom\")\n",
    "else:\n",
    "    print(\"Değil\")"
   ]
  },
  {
   "cell_type": "code",
   "execution_count": null,
   "id": "0424ee87",
   "metadata": {},
   "outputs": [],
   "source": [
    "# Soru 8 - List Comprehension\n",
    "liste = [x**2 for x in range(1,101) if x%3==0 and x%5==0]\n",
    "print(liste)"
   ]
  },
  {
   "cell_type": "code",
   "execution_count": null,
   "id": "22d1e867",
   "metadata": {},
   "outputs": [],
   "source": [
    "# Soru 9 - String İşlemleri\n",
    "cumle = input(\"Bir cümle giriniz: \")\n",
    "kelimeler = cumle.split()\n",
    "yeni = ' '.join([kelime.capitalize() for kelime in kelimeler])\n",
    "print(yeni)"
   ]
  },
  {
   "cell_type": "code",
   "execution_count": null,
   "id": "a2cbc39c",
   "metadata": {},
   "outputs": [],
   "source": [
    "# Mini Proje - Film Yorumu Analizi\n",
    "yorumlar = []\n",
    "n = int(input(\"Kaç yorum gireceksiniz? \"))\n",
    "for i in range(n):\n",
    "    yorum = input(f\"{i+1}. yorumu giriniz: \")\n",
    "    yorumlar.append(yorum)\n",
    "uzunluklar = [len(y) for y in yorumlar]\n",
    "yi_sayisi = sum('iyi' in y.lower() for y in yorumlar)\n",
    "en_uzun = max(yorumlar, key=len)\n",
    "en_kisa = min(yorumlar, key=len)\n",
    "ortalama_uz = sum(uzunluklar)/len(yorumlar)\n",
    "print(\"Toplam yorum sayısı:\", len(yorumlar))\n",
    "print('\"iyi\" geçen yorum sayısı:', iyi_sayisi)\n",
    "print(\"En uzun yorum:\", en_uzun)\n",
    "print(\"En kısa yorum:\", en_kisa)\n",
    "print(\"Ortalama uzunluk:\", ortalama_uz, \"karakter\")"
   ]
  }
 ],
 "metadata": {},
 "nbformat": 4,
 "nbformat_minor": 5
}
