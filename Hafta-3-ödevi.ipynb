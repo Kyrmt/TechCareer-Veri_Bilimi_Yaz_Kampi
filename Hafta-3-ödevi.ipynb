{
 "cells": [
  {
   "cell_type": "code",
   "execution_count": 20,
   "id": "8485b878",
   "metadata": {},
   "outputs": [
    {
     "name": "stdout",
     "output_type": "stream",
     "text": [
      "[100, 92, 85, 76]\n",
      "100\n",
      "76\n",
      "[76, 76, 85, 85, 92, 92, 92, 100]\n"
     ]
    }
   ],
   "source": [
    "notlar = [85, 92, 76, 92, 100, 76, 85, 92]\n",
    "\n",
    "benzersiznot = list(set(notlar))\n",
    "print(benzersiznot)\n",
    "\n",
    "print(max(notlar))\n",
    "print(min(notlar))\n",
    "\n",
    "siralanmis_notlar = list(sorted(notlar))\n",
    "print(siralanmis_notlar)\n"
   ]
  },
  {
   "cell_type": "code",
   "execution_count": 21,
   "id": "dd4ed972",
   "metadata": {},
   "outputs": [
    {
     "data": {
      "text/plain": [
       "'Armstrong sayisi'"
      ]
     },
     "execution_count": 21,
     "metadata": {},
     "output_type": "execute_result"
    }
   ],
   "source": [
    "def isArmstrong(sayi):\n",
    "    yüzler = int(sayi / 100)\n",
    "    onlar = int((sayi - yüzler*100) / 10) \n",
    "    birler = int((sayi - yüzler*100 - onlar*10))\n",
    "    toplam = yüzler ** 3 + onlar ** 3 + birler ** 3\n",
    "    if toplam == sayi:\n",
    "        return \"Armstrong sayisi\"\n",
    "    else:\n",
    "        return \"Armstrong sayisi değil\"\n",
    "    \n",
    "isArmstrong(153)\n",
    "\n"
   ]
  },
  {
   "cell_type": "code",
   "execution_count": 22,
   "id": "52b771eb",
   "metadata": {},
   "outputs": [
    {
     "name": "stdout",
     "output_type": "stream",
     "text": [
      "{'Python', 'SQL'}\n",
      "Sadece A'da olanlar: {'R', 'Java'}\n",
      "Birleşim ): {'C++', 'Python', 'R', 'Java', 'SQL', 'JavaScript'}\n"
     ]
    }
   ],
   "source": [
    "A = {\"Python\", \"R\", \"SQL\", \"Java\"}\n",
    "B = {\"C++\", \"Python\", \"JavaScript\", \"SQL\"}\n",
    "\n",
    "ortak = A & B\n",
    "print(ortak)\n",
    "\n",
    "sadece_A = A - B\n",
    "print(\"Sadece A'da olanlar:\", sadece_A)\n",
    "\n",
    "birlesim = A | B\n",
    "print(\"Birleşim ):\", birlesim)"
   ]
  },
  {
   "cell_type": "code",
   "execution_count": 23,
   "id": "d1ad3ce4",
   "metadata": {},
   "outputs": [
    {
     "name": "stdout",
     "output_type": "stream",
     "text": [
      "[99, 99, 83, 98, 74, 16, 78, 52, 11, 71]\n",
      "ort: 68.1 , std sapma: 32.31941281094761\n"
     ]
    }
   ],
   "source": [
    "import random as rd\n",
    "import statistics \n",
    "total = 0\n",
    "sayilar = [rd.randint(1,100) for _ in range (10)]\n",
    "print(sayilar)\n",
    "\n",
    "ortalama = statistics.mean(sayilar)\n",
    "std_sapma = statistics.stdev(sayilar)\n",
    "\n",
    "print(f\"ort: {ortalama} , std sapma: {std_sapma}\")\n",
    "\n",
    "\n"
   ]
  },
  {
   "cell_type": "code",
   "execution_count": 24,
   "id": "4a11b741",
   "metadata": {},
   "outputs": [
    {
     "name": "stdout",
     "output_type": "stream",
     "text": [
      "(18, 'Muvaffakiyetsizleştiricileştiriveremeyebileceklerimizdenmişsinizcesine', 'çok')\n"
     ]
    }
   ],
   "source": [
    "def kelime_sayacı(metin):\n",
    "    kelimeler = metin.split()\n",
    "    toplam = len(kelimeler)\n",
    "    en_uzun = \"\"\n",
    "\n",
    "    for k in kelimeler:\n",
    "        if len(k) > len(en_uzun):\n",
    "            en_uzun = k\n",
    "\n",
    "    en_sik = \"\"\n",
    "    en_sik_sayi = 0\n",
    "    for k in kelimeler:\n",
    "        adet = kelimeler.count(k)\n",
    "        if adet > en_sik_sayi:\n",
    "            en_sik_sayi = adet\n",
    "            en_sik = k\n",
    "    \n",
    "    return toplam, en_uzun, en_sik\n",
    "\n",
    "\n",
    "metin = \"Techcareer ile veri bilimi eğitimi çok güzel ama gerçekten çok ama çok güzel lorem ipsum sit amet Muvaffakiyetsizleştiricileştiriveremeyebileceklerimizdenmişsinizcesine\"\n",
    "print(kelime_sayacı(metin))\n"
   ]
  },
  {
   "cell_type": "code",
   "execution_count": 25,
   "id": "54377711",
   "metadata": {},
   "outputs": [
    {
     "name": "stdout",
     "output_type": "stream",
     "text": [
      "[12, 18, 24, 16]\n",
      "[25, 144, 49, 324, 576, 9, 256]\n",
      "[9, 25, 49, 144, 256, 324, 576]\n"
     ]
    }
   ],
   "source": [
    "sayilar = [5, 12, 7, 18, 24, 3, 16]\n",
    "filteredsayilar = filter(lambda sayi : sayi % 2 == 0,sayilar)\n",
    "print(list(filteredsayilar))\n",
    "\n",
    "karesayilar = map(lambda sayi: sayi ** 2,sayilar)\n",
    "karesayilar = list(karesayilar)\n",
    "print(karesayilar)\n",
    "\n",
    "\n",
    "karesayilar.sort()\n",
    "print(karesayilar)"
   ]
  },
  {
   "cell_type": "code",
   "execution_count": 26,
   "id": "d164fac6",
   "metadata": {},
   "outputs": [
    {
     "name": "stdout",
     "output_type": "stream",
     "text": [
      "['veri', 'bilim', 'analiz', 'python', 'yapayzeka']\n"
     ]
    }
   ],
   "source": [
    "kelimeler = [\"veri\", \"bilim\", \"analiz\", \"yapayzeka\", \"python\"]\n",
    "kelimeler = sorted(kelimeler, key=lambda kelime: len(kelime))\n",
    "print(kelimeler)"
   ]
  },
  {
   "cell_type": "code",
   "execution_count": 27,
   "id": "d27c98e3",
   "metadata": {},
   "outputs": [
    {
     "name": "stdout",
     "output_type": "stream",
     "text": [
      "234322\n"
     ]
    }
   ],
   "source": [
    "def findint(kelime):\n",
    "    empty = \"\"\n",
    "    for a in kelime:\n",
    "        if a.isdigit():\n",
    "            empty += a \n",
    "    return empty\n",
    "\n",
    "print(findint(\"sasdfa23432fdas2\"))\n"
   ]
  },
  {
   "cell_type": "code",
   "execution_count": null,
   "id": "83fadb64",
   "metadata": {},
   "outputs": [],
   "source": [
    "import numpy as np\n",
    "\n",
    "dizi = np.random.randint(0, 51, 10)\n",
    "print(\"dizi\", dizi)\n",
    "\n",
    "ortalama = np.mean(dizi)\n",
    "print(\"Ortalama\", ortalama)\n",
    "\n",
    "std = np.std(dizi)\n",
    "print(\"Standart Sapma:\", std)\n",
    "maks = np.max(dizi)\n",
    "print(\"En Büyük Değer:\", maks)\n"
   ]
  },
  {
   "cell_type": "code",
   "execution_count": null,
   "id": "5460879f",
   "metadata": {},
   "outputs": [],
   "source": [
    "#10. soruyu yapamadım"
   ]
  }
 ],
 "metadata": {
  "kernelspec": {
   "display_name": "Python 3",
   "language": "python",
   "name": "python3"
  },
  "language_info": {
   "codemirror_mode": {
    "name": "ipython",
    "version": 3
   },
   "file_extension": ".py",
   "mimetype": "text/x-python",
   "name": "python",
   "nbconvert_exporter": "python",
   "pygments_lexer": "ipython3",
   "version": "3.13.7"
  }
 },
 "nbformat": 4,
 "nbformat_minor": 5
}
